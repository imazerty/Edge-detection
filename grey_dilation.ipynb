{
  "nbformat": 4,
  "nbformat_minor": 0,
  "metadata": {
    "colab": {
      "name": "grey_dilation.ipynb",
      "version": "0.3.2",
      "provenance": [],
      "include_colab_link": true
    },
    "kernelspec": {
      "name": "python3",
      "display_name": "Python 3"
    },
    "accelerator": "GPU"
  },
  "cells": [
    {
      "cell_type": "markdown",
      "metadata": {
        "id": "view-in-github",
        "colab_type": "text"
      },
      "source": [
        "<a href=\"https://colab.research.google.com/github/imazerty/Edge-detection/blob/master/grey_dilation.ipynb\" target=\"_parent\"><img src=\"https://colab.research.google.com/assets/colab-badge.svg\" alt=\"Open In Colab\"/></a>"
      ]
    },
    {
      "cell_type": "markdown",
      "metadata": {
        "id": "bZ1Nh7NfGnzc",
        "colab_type": "text"
      },
      "source": [
        "# Dilating"
      ]
    },
    {
      "cell_type": "code",
      "metadata": {
        "id": "mDo8ECXe0JcX",
        "colab_type": "code",
        "colab": {
          "base_uri": "https://localhost:8080/",
          "height": 254
        },
        "outputId": "b6620fbc-07aa-40df-e089-5fd40e48e1d9"
      },
      "source": [
        "import scipy.ndimage\n",
        "from PIL import Image\n",
        "import matplotlib.pyplot as plt\n",
        "#!wget \"https://www.dropbox.com/s/tjh2aswihqqloca/NevatiaBabu.bmp?dl=0\" > im.bmp\n",
        "im = Image.open(\"NevatiaBabu.bmp\")\n",
        "print(im)\n",
        "NevatiaBabu_dilated = scipy.ndimage.grey_dilation(im, size=(5,4))\n",
        "plt.figure(figsize = (5,8)\n",
        "         )\n",
        "plt.imshow(NevatiaBabu_dilated)\n",
        "\n",
        "plt.imsave(\"NevatiaBabu_dilated.jpg\", NevatiaBabu_dilated)"
      ],
      "execution_count": 62,
      "outputs": [
        {
          "output_type": "stream",
          "text": [
            "<PIL.BmpImagePlugin.BmpImageFile image mode=1 size=400x266 at 0x7FD21730FE10>\n"
          ],
          "name": "stdout"
        },
        {
          "output_type": "display_data",
          "data": {
            "image/png": "[encoded data removed]",
            "text/plain": [
              "<Figure size 360x576 with 1 Axes>"
            ]
          },
          "metadata": {
            "tags": []
          }
        }
      ]
    },
    {
      "cell_type": "markdown",
      "metadata": {
        "id": "pb2S4AjdGu3J",
        "colab_type": "text"
      },
      "source": [
        "# Eroding"
      ]
    },
    {
      "cell_type": "code",
      "metadata": {
        "id": "CIQ08px04CiB",
        "colab_type": "code",
        "colab": {
          "base_uri": "https://localhost:8080/",
          "height": 237
        },
        "outputId": "d5e376c4-9483-4228-d477-a6f518d9eb36"
      },
      "source": [
        "import scipy.ndimage\n",
        "from PIL import Image\n",
        "import matplotlib.pyplot as plt\n",
        "#!wget \"https://www.dropbox.com/s/tjh2aswihqqloca/NevatiaBabu.bmp?dl=0\" > im.bmp\n",
        "#im = Image.open(\"NevatiaBabu.bmp\")\n",
        "#print(im)\n",
        "NevatiaBabu_eroded = scipy.ndimage.grey_erosion(NevatiaBabu_dilated, size=(2,2))\n",
        "plt.figure(figsize = (5,8)\n",
        "         )\n",
        "plt.imshow(NevatiaBabu_eroded)\n",
        "plt.imsave(\"NevatiaBabu_eroded.jpg\", NevatiaBabu_eroded)"
      ],
      "execution_count": 63,
      "outputs": [
        {
          "output_type": "display_data",
          "data": {
            "image/png": "[encoded data removed]",
            "text/plain": [
              "<Figure size 360x576 with 1 Axes>"
            ]
          },
          "metadata": {
            "tags": []
          }
        }
      ]
    },
    {
      "cell_type": "markdown",
      "metadata": {
        "id": "Q0826gOMH8_u",
        "colab_type": "text"
      },
      "source": [
        "# dilating +eroding => grey_opening"
      ]
    },
    {
      "cell_type": "code",
      "metadata": {
        "id": "q0P17ScO5Sf1",
        "colab_type": "code",
        "colab": {
          "base_uri": "https://localhost:8080/",
          "height": 254
        },
        "outputId": "bfa06eb1-541a-49b5-ba7a-cc7c96e108f8"
      },
      "source": [
        "NevatiaBabu_d_go = scipy.ndimage.grey_opening(NevatiaBabu_eroded, size=(5,4))\n",
        "plt.figure(figsize = (5,8)\n",
        "         )\n",
        "plt.imshow(NevatiaBabu_d_go)"
      ],
      "execution_count": 64,
      "outputs": [
        {
          "output_type": "execute_result",
          "data": {
            "text/plain": [
              "<matplotlib.image.AxesImage at 0x7fd217194a58>"
            ]
          },
          "metadata": {
            "tags": []
          },
          "execution_count": 64
        },
        {
          "output_type": "display_data",
          "data": {
            "image/png": "[encoded data removed]",
            "text/plain": [
              "<Figure size 360x576 with 1 Axes>"
            ]
          },
          "metadata": {
            "tags": []
          }
        }
      ]
    },
    {
      "cell_type": "markdown",
      "metadata": {
        "id": "meeLGqABIWQJ",
        "colab_type": "text"
      },
      "source": [
        "# Thicker lines with grey_closing"
      ]
    },
    {
      "cell_type": "code",
      "metadata": {
        "id": "tTvpqgCtE97K",
        "colab_type": "code",
        "colab": {
          "base_uri": "https://localhost:8080/",
          "height": 254
        },
        "outputId": "4aeaf0bd-b20b-4c4b-d030-27f27987e5c2"
      },
      "source": [
        "NevatiaBabu_d_go = scipy.ndimage.grey_closing(im, size=(5,4))\n",
        "plt.figure(figsize = (5,8)\n",
        "         )\n",
        "plt.imshow(NevatiaBabu_d_go)"
      ],
      "execution_count": 67,
      "outputs": [
        {
          "output_type": "execute_result",
          "data": {
            "text/plain": [
              "<matplotlib.image.AxesImage at 0x7fd21702ef98>"
            ]
          },
          "metadata": {
            "tags": []
          },
          "execution_count": 67
        },
        {
          "output_type": "display_data",
          "data": {
            "image/png": "[encoded data removed]",
            "text/plain": [
              "<Figure size 360x576 with 1 Axes>"
            ]
          },
          "metadata": {
            "tags": []
          }
        }
      ]
    }
  ]
}