{
  "nbformat": 4,
  "nbformat_minor": 0,
  "metadata": {
    "colab": {
      "name": "resizeImage.ipynb",
      "version": "0.3.2",
      "provenance": [],
      "include_colab_link": true
    },
    "kernelspec": {
      "name": "python3",
      "display_name": "Python 3"
    }
  },
  "cells": [
    {
      "cell_type": "markdown",
      "metadata": {
        "id": "view-in-github",
        "colab_type": "text"
      },
      "source": [
        "<a href=\"https://colab.research.google.com/github/imazerty/Edge-detection/blob/master/resizeImage.ipynb\" target=\"_parent\"><img src=\"https://colab.research.google.com/assets/colab-badge.svg\" alt=\"Open In Colab\"/></a>"
      ]
    },
    {
      "cell_type": "code",
      "metadata": {
        "id": "6G8mflOOsGc4",
        "colab_type": "code",
        "colab": {}
      },
      "source": [
        "%matplotlib inline\n",
        "import imageio\n",
        "import numpy as np\n",
        "import matplotlib.pyplot as plt\n",
        "import cv2\n",
        "\n",
        "#resize so that the sizes of both images are the same\n",
        "#shape yft (266, 400,3)\n",
        "pic = imageio.imread('bigeye.jpg')\n",
        "width = 400\n",
        "height = 266\n",
        "dim = (width, height)\n",
        "resized = cv2.resize(pic, dim, interpolation = cv2.INTER_AREA)\n",
        "print(pic.shape)\n",
        "print(resized.shape)\n",
        "plt.figure()\n",
        "plt.imshow(pic)\n",
        "plt.figure()\n",
        "plt.imshow(resized)\n",
        "plt.show()"
      ],
      "execution_count": 0,
      "outputs": []
    }
  ]
}