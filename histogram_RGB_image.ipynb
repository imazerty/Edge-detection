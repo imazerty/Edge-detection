{
  "nbformat": 4,
  "nbformat_minor": 0,
  "metadata": {
    "colab": {
      "name": "histogram_RGB_image.ipynb",
      "version": "0.3.2",
      "provenance": [],
      "include_colab_link": true
    },
    "kernelspec": {
      "name": "python3",
      "display_name": "Python 3"
    }
  },
  "cells": [
    {
      "cell_type": "markdown",
      "metadata": {
        "id": "view-in-github",
        "colab_type": "text"
      },
      "source": [
        "<a href=\"https://colab.research.google.com/github/imazerty/Edge-detection/blob/master/histogram_RGB_image.ipynb\" target=\"_parent\"><img src=\"https://colab.research.google.com/assets/colab-badge.svg\" alt=\"Open In Colab\"/></a>"
      ]
    },
    {
      "cell_type": "code",
      "metadata": {
        "id": "Wl5TvuZnoREj",
        "colab_type": "code",
        "colab": {}
      },
      "source": [
        "import cv2\n",
        "from matplotlib import pyplot as plt\n",
        "def draw_image_histogram(image, channels, color='k'):\n",
        "    hist = cv2.calcHist([image], channels, None, [256], [0, 256])\n",
        "    plt.plot(hist, color=color)\n",
        "    plt.xlim([0, 256])\n",
        "\n",
        "def show_color_histogram(image):\n",
        "    for i, col in enumerate(['b', 'g', 'r']):\n",
        "        draw_image_histogram(image, [i], color=col)\n",
        "    plt.show()\n",
        "    \n",
        "\n",
        "show_color_histogram(img)"
      ],
      "execution_count": 0,
      "outputs": []
    }
  ]
}