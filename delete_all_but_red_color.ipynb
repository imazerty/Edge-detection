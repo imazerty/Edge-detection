{
  "nbformat": 4,
  "nbformat_minor": 0,
  "metadata": {
    "colab": {
      "name": "delete all but red color.ipynb",
      "version": "0.3.2",
      "provenance": [],
      "include_colab_link": true
    },
    "kernelspec": {
      "name": "python3",
      "display_name": "Python 3"
    }
  },
  "cells": [
    {
      "cell_type": "markdown",
      "metadata": {
        "id": "view-in-github",
        "colab_type": "text"
      },
      "source": [
        "<a href=\"https://colab.research.google.com/github/imazerty/Edge-detection/blob/master/delete_all_but_red_color.ipynb\" target=\"_parent\"><img src=\"https://colab.research.google.com/assets/colab-badge.svg\" alt=\"Open In Colab\"/></a>"
      ]
    },
    {
      "cell_type": "code",
      "metadata": {
        "id": "NjvcZvwMt3k3",
        "colab_type": "code",
        "colab": {}
      },
      "source": [
        "lower = np.array([0,0,0])  #-- Lower range --\n",
        "upper = np.array([255,0,0])  #-- Upper range --\n",
        "mask = cv2.inRange(img, lower, upper)\n",
        "res = cv2.bitwise_and(img, img, mask= mask)  #-- Contains pixels having the gray color--\n",
        "cv2_imshow(res)"
      ],
      "execution_count": 0,
      "outputs": []
    }
  ]
}