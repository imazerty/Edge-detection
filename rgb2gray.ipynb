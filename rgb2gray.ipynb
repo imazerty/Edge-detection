{
  "nbformat": 4,
  "nbformat_minor": 0,
  "metadata": {
    "colab": {
      "name": "rgb2gray.ipynb",
      "version": "0.3.2",
      "provenance": [],
      "include_colab_link": true
    },
    "kernelspec": {
      "name": "python3",
      "display_name": "Python 3"
    }
  },
  "cells": [
    {
      "cell_type": "markdown",
      "metadata": {
        "id": "view-in-github",
        "colab_type": "text"
      },
      "source": [
        "<a href=\"https://colab.research.google.com/github/imazerty/Edge-detection/blob/master/rgb2gray.ipynb\" target=\"_parent\"><img src=\"https://colab.research.google.com/assets/colab-badge.svg\" alt=\"Open In Colab\"/></a>"
      ]
    },
    {
      "cell_type": "markdown",
      "metadata": {
        "id": "Yt8AzmwyI3Ac",
        "colab_type": "text"
      },
      "source": [
        "# rgb -> gray 1 channel"
      ]
    },
    {
      "cell_type": "markdown",
      "metadata": {
        "id": "jUylCVX8P9BY",
        "colab_type": "text"
      },
      "source": [
        " simple function:"
      ]
    },
    {
      "cell_type": "code",
      "metadata": {
        "id": "3jVYjSF7HhR7",
        "colab_type": "code",
        "outputId": "a979a0f9-babd-4fe4-b38a-762d6b23912a",
        "colab": {
          "base_uri": "https://localhost:8080/",
          "height": 51
        }
      },
      "source": [
        "from skimage.io import imread\n",
        "def rgb2gray(rgb):\n",
        "  r, g,b = rgb[:,:,0],rgb[:,:,1],rgb[:,:,2]\n",
        "  gray = 0.2988*r + 0.5870*g + 0.1140*b\n",
        "  return gray\n",
        "img = imread(\"NevatiaBabu_dilated_bet.jpg\", as_gray = False)\n",
        "print(img.shape)\n",
        "img = rgb2gray(img)\n",
        "print(img.shape)"
      ],
      "execution_count": 3,
      "outputs": [
        {
          "output_type": "stream",
          "text": [
            "(680, 1021, 3)\n",
            "(680, 1021)\n"
          ],
          "name": "stdout"
        }
      ]
    },
    {
      "cell_type": "markdown",
      "metadata": {
        "id": "NwsGlc3oQEZI",
        "colab_type": "text"
      },
      "source": [
        "Using cv2.cvtColor:"
      ]
    },
    {
      "cell_type": "code",
      "metadata": {
        "id": "hz8aThszP3AC",
        "colab_type": "code",
        "colab": {
          "base_uri": "https://localhost:8080/",
          "height": 51
        },
        "outputId": "a6ae4611-fcbf-4b0b-883d-681333422aaa"
      },
      "source": [
        "import cv2\n",
        "img = imread(\"NevatiaBabu_dilated_bet.jpg\", as_gray = False)\n",
        "print(img.shape)\n",
        "gray = cv2.cvtColor(img, cv2.COLOR_BGR2GRAY)\n",
        "print(gray.shape)"
      ],
      "execution_count": 6,
      "outputs": [
        {
          "output_type": "stream",
          "text": [
            "(680, 1021, 3)\n",
            "(680, 1021)\n"
          ],
          "name": "stdout"
        }
      ]
    }
  ]
}