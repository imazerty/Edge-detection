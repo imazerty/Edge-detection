{
  "nbformat": 4,
  "nbformat_minor": 0,
  "metadata": {
    "colab": {
      "name": "rgb2gray.ipynb",
      "version": "0.3.2",
      "provenance": [],
      "include_colab_link": true
    },
    "kernelspec": {
      "name": "python3",
      "display_name": "Python 3"
    }
  },
  "cells": [
    {
      "cell_type": "markdown",
      "metadata": {
        "id": "view-in-github",
        "colab_type": "text"
      },
      "source": [
        "<a href=\"https://colab.research.google.com/github/imazerty/Edge-detection/blob/master/rgb2gray.ipynb\" target=\"_parent\"><img src=\"https://colab.research.google.com/assets/colab-badge.svg\" alt=\"Open In Colab\"/></a>"
      ]
    },
    {
      "cell_type": "markdown",
      "metadata": {
        "id": "Yt8AzmwyI3Ac",
        "colab_type": "text"
      },
      "source": [
        "# rgb -> gray 1 channel"
      ]
    },
    {
      "cell_type": "code",
      "metadata": {
        "id": "3jVYjSF7HhR7",
        "colab_type": "code",
        "colab": {
          "base_uri": "https://localhost:8080/",
          "height": 51
        },
        "outputId": "430297ab-22a0-4697-c06a-7278cb1d44b8"
      },
      "source": [
        "from skimage.io import imread\n",
        "def rgb2gray(rgb):\n",
        "  r, g,b = rgb[:,:,0],rgb[:,:,1],rgb[:,:,2]\n",
        "  gray = 0.2988*r + 0.5870*g + 0.1140*b\n",
        "  return gray\n",
        "img = imread(\"NevatiaBabu_dilated_bet.jpg\", as_gray = False)\n",
        "print(img.shape)\n",
        "img = rgb2gray(img)\n",
        "print(img.shape)"
      ],
      "execution_count": 2,
      "outputs": [
        {
          "output_type": "stream",
          "text": [
            "(680, 1021, 3)\n",
            "(680, 1021)\n"
          ],
          "name": "stdout"
        }
      ]
    }
  ]
}