{
  "nbformat": 4,
  "nbformat_minor": 0,
  "metadata": {
    "colab": {
      "name": "grey_dilation_bet.ipynb",
      "version": "0.3.2",
      "provenance": [],
      "toc_visible": true,
      "include_colab_link": true
    },
    "kernelspec": {
      "name": "python3",
      "display_name": "Python 3"
    }
  },
  "cells": [
    {
      "cell_type": "markdown",
      "metadata": {
        "id": "view-in-github",
        "colab_type": "text"
      },
      "source": [
        "<a href=\"https://colab.research.google.com/github/imazerty/Edge-detection/blob/master/grey_dilation_bet.ipynb\" target=\"_parent\"><img src=\"https://colab.research.google.com/assets/colab-badge.svg\" alt=\"Open In Colab\"/></a>"
      ]
    },
    {
      "cell_type": "code",
      "metadata": {
        "id": "u2JwmKovdC6m",
        "colab_type": "code",
        "colab": {}
      },
      "source": [
        ""
      ],
      "execution_count": 0,
      "outputs": []
    },
    {
      "cell_type": "markdown",
      "metadata": {
        "id": "bZ1Nh7NfGnzc",
        "colab_type": "text"
      },
      "source": [
        "# Dilating"
      ]
    },
    {
      "cell_type": "code",
      "metadata": {
        "id": "mDo8ECXe0JcX",
        "colab_type": "code",
        "outputId": "c8126cc7-3c15-4d84-fdce-641a4d3cad9d",
        "colab": {
          "base_uri": "https://localhost:8080/",
          "height": 255
        }
      },
      "source": [
        "import scipy.ndimage\n",
        "from PIL import Image\n",
        "import matplotlib.pyplot as plt\n",
        "#!wget \"https://www.dropbox.com/s/tjh2aswihqqloca/NevatiaBabu.bmp?dl=0\" > im.bmp\n",
        "im = Image.open(\"NevatiaBabu.bmp\")\n",
        "print(im)\n",
        "NevatiaBabu_dilated = scipy.ndimage.grey_dilation(im, size=(5,4))\n",
        "plt.figure(figsize = (5,8)\n",
        "         )\n",
        "plt.imshow(NevatiaBabu_dilated)\n",
        "\n",
        "plt.imsave(\"NevatiaBabu_dilated_bet.jpg\", NevatiaBabu_dilated)"
      ],
      "execution_count": 1,
      "outputs": [
        {
          "output_type": "stream",
          "text": [
            "<PIL.BmpImagePlugin.BmpImageFile image mode=1 size=1021x680 at 0x7F6B790935F8>\n"
          ],
          "name": "stdout"
        },
        {
          "output_type": "display_data",
          "data": {
            "image/png": "[encoded data removed]",
            "text/plain": [
              "<Figure size 360x576 with 1 Axes>"
            ]
          },
          "metadata": {
            "tags": []
          }
        }
      ]
    },
    {
      "cell_type": "markdown",
      "metadata": {
        "id": "pb2S4AjdGu3J",
        "colab_type": "text"
      },
      "source": [
        "# Eroding"
      ]
    },
    {
      "cell_type": "code",
      "metadata": {
        "id": "CIQ08px04CiB",
        "colab_type": "code",
        "outputId": "bf8e3c34-3419-4a75-b6b9-6c3258b14e1f",
        "colab": {
          "base_uri": "https://localhost:8080/",
          "height": 238
        }
      },
      "source": [
        "import scipy.ndimage\n",
        "from PIL import Image\n",
        "import matplotlib.pyplot as plt\n",
        "#!wget \"https://www.dropbox.com/s/tjh2aswihqqloca/NevatiaBabu.bmp?dl=0\" > im.bmp\n",
        "#im = Image.open(\"NevatiaBabu.bmp\")\n",
        "#print(im)\n",
        "NevatiaBabu_eroded = scipy.ndimage.grey_erosion(NevatiaBabu_dilated, size=(2,2))\n",
        "plt.figure(figsize = (5,8)\n",
        "         )\n",
        "plt.imshow(NevatiaBabu_eroded)\n",
        "plt.imsave(\"NevatiaBabu_eroded_bet.jpg\", NevatiaBabu_eroded)"
      ],
      "execution_count": 2,
      "outputs": [
        {
          "output_type": "display_data",
          "data": {
            "image/png": "[encoded data removed]",
            "text/plain": [
              "<Figure size 360x576 with 1 Axes>"
            ]
          },
          "metadata": {
            "tags": []
          }
        }
      ]
    },
    {
      "cell_type": "markdown",
      "metadata": {
        "id": "Q0826gOMH8_u",
        "colab_type": "text"
      },
      "source": [
        "# dilating +eroding => grey_opening"
      ]
    },
    {
      "cell_type": "code",
      "metadata": {
        "id": "q0P17ScO5Sf1",
        "colab_type": "code",
        "outputId": "8e3e21bd-c23b-4276-b379-187676f495c5",
        "colab": {
          "base_uri": "https://localhost:8080/",
          "height": 255
        }
      },
      "source": [
        "NevatiaBabu_d_go = scipy.ndimage.grey_opening(NevatiaBabu_eroded, size=(5,4))\n",
        "plt.figure(figsize = (5,8)\n",
        "         )\n",
        "plt.imshow(NevatiaBabu_d_go)"
      ],
      "execution_count": 3,
      "outputs": [
        {
          "output_type": "execute_result",
          "data": {
            "text/plain": [
              "<matplotlib.image.AxesImage at 0x7f6b75838128>"
            ]
          },
          "metadata": {
            "tags": []
          },
          "execution_count": 3
        },
        {
          "output_type": "display_data",
          "data": {
            "image/png": "[encoded data removed]",
            "text/plain": [
              "<Figure size 360x576 with 1 Axes>"
            ]
          },
          "metadata": {
            "tags": []
          }
        }
      ]
    },
    {
      "cell_type": "markdown",
      "metadata": {
        "id": "meeLGqABIWQJ",
        "colab_type": "text"
      },
      "source": [
        "# Thicker lines with grey_closing"
      ]
    },
    {
      "cell_type": "code",
      "metadata": {
        "id": "tTvpqgCtE97K",
        "colab_type": "code",
        "outputId": "aad74fa9-3e9f-416c-d606-e120f05c6496",
        "colab": {
          "base_uri": "https://localhost:8080/",
          "height": 255
        }
      },
      "source": [
        "NevatiaBabu_d_go = scipy.ndimage.grey_closing(im, size=(5,4))\n",
        "plt.figure(figsize = (5,8)\n",
        "         )\n",
        "plt.imshow(NevatiaBabu_d_go)"
      ],
      "execution_count": 4,
      "outputs": [
        {
          "output_type": "execute_result",
          "data": {
            "text/plain": [
              "<matplotlib.image.AxesImage at 0x7f6b75794278>"
            ]
          },
          "metadata": {
            "tags": []
          },
          "execution_count": 4
        },
        {
          "output_type": "display_data",
          "data": {
            "image/png": "[encoded data removed]",
            "text/plain": [
              "<Figure size 360x576 with 1 Axes>"
            ]
          },
          "metadata": {
            "tags": []
          }
        }
      ]
    }
  ]
}