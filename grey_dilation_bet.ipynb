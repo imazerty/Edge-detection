{
  "nbformat": 4,
  "nbformat_minor": 0,
  "metadata": {
    "colab": {
      "name": "grey_dilation_bet.ipynb",
      "version": "0.3.2",
      "provenance": [],
      "toc_visible": true,
      "include_colab_link": true
    },
    "kernelspec": {
      "name": "python3",
      "display_name": "Python 3"
    }
  },
  "cells": [
    {
      "cell_type": "markdown",
      "metadata": {
        "id": "view-in-github",
        "colab_type": "text"
      },
      "source": [
        "<a href=\"https://colab.research.google.com/github/imazerty/Edge-detection/blob/master/grey_dilation_bet.ipynb\" target=\"_parent\"><img src=\"https://colab.research.google.com/assets/colab-badge.svg\" alt=\"Open In Colab\"/></a>"
      ]
    },
    {
      "cell_type": "code",
      "metadata": {
        "id": "u2JwmKovdC6m",
        "colab_type": "code",
        "colab": {}
      },
      "source": [
        ""
      ],
      "execution_count": 0,
      "outputs": []
    },
    {
      "cell_type": "markdown",
      "metadata": {
        "id": "bZ1Nh7NfGnzc",
        "colab_type": "text"
      },
      "source": [
        "# Dilating"
      ]
    },
    {
      "cell_type": "code",
      "metadata": {
        "id": "mDo8ECXe0JcX",
        "colab_type": "code",
        "outputId": "9c9cebe7-2e23-469c-d220-b053ca7a4776",
        "colab": {
          "base_uri": "https://localhost:8080/",
          "height": 255
        }
      },
      "source": [
        "import scipy.ndimage\n",
        "from PIL import Image\n",
        "import matplotlib.pyplot as plt\n",
        "#!wget \"https://www.dropbox.com/s/tjh2aswihqqloca/NevatiaBabu.bmp?dl=0\" > im.bmp\n",
        "im = Image.open(\"NevatiaBabu_bet.bmp\")\n",
        "print(im)\n",
        "NevatiaBabu_dilated = scipy.ndimage.grey_dilation(NevatiaBabu_eroded_bet, size=(20,2))\n",
        "plt.figure(figsize = (5,8)\n",
        "         )\n",
        "plt.imshow(NevatiaBabu_dilated)\n",
        "\n",
        "plt.imsave(\"NevatiaBabu_dilated_bet.jpg\", NevatiaBabu_dilated)"
      ],
      "execution_count": 0,
      "outputs": [
        {
          "output_type": "stream",
          "text": [
            "<PIL.BmpImagePlugin.BmpImageFile image mode=1 size=1021x680 at 0x7F00199FDE48>\n"
          ],
          "name": "stdout"
        },
        {
          "output_type": "display_data",
          "data": {
            "image/png": "[encoded data removed]",
            "text/plain": [
              "<Figure size 360x576 with 1 Axes>"
            ]
          },
          "metadata": {
            "tags": []
          }
        }
      ]
    },
    {
      "cell_type": "code",
      "metadata": {
        "id": "oLwRu3v-srsI",
        "colab_type": "code",
        "outputId": "b084883e-227a-4b48-9e85-49908ec21dc6",
        "colab": {
          "base_uri": "https://localhost:8080/",
          "height": 180
        }
      },
      "source": [
        "im = Image.open(\"NevatiaBabu_dilated_bet.jpg\")\n",
        "print(im[0,0])"
      ],
      "execution_count": 0,
      "outputs": [
        {
          "output_type": "error",
          "ename": "TypeError",
          "evalue": "ignored",
          "traceback": [
            "\u001b[0;31m---------------------------------------------------------------------------\u001b[0m",
            "\u001b[0;31mTypeError\u001b[0m                                 Traceback (most recent call last)",
            "\u001b[0;32m<ipython-input-43-7cdf67eecc5e>\u001b[0m in \u001b[0;36m<module>\u001b[0;34m()\u001b[0m\n\u001b[1;32m      1\u001b[0m \u001b[0mim\u001b[0m \u001b[0;34m=\u001b[0m \u001b[0mImage\u001b[0m\u001b[0;34m.\u001b[0m\u001b[0mopen\u001b[0m\u001b[0;34m(\u001b[0m\u001b[0;34m\"NevatiaBabu_dilated_bet.jpg\"\u001b[0m\u001b[0;34m)\u001b[0m\u001b[0;34m\u001b[0m\u001b[0;34m\u001b[0m\u001b[0m\n\u001b[0;32m----> 2\u001b[0;31m \u001b[0mprint\u001b[0m\u001b[0;34m(\u001b[0m\u001b[0mim\u001b[0m\u001b[0;34m[\u001b[0m\u001b[0;36m0\u001b[0m\u001b[0;34m,\u001b[0m\u001b[0;36m0\u001b[0m\u001b[0;34m]\u001b[0m\u001b[0;34m)\u001b[0m\u001b[0;34m\u001b[0m\u001b[0;34m\u001b[0m\u001b[0m\n\u001b[0m",
            "\u001b[0;31mTypeError\u001b[0m: 'JpegImageFile' object is not subscriptable"
          ]
        }
      ]
    },
    {
      "cell_type": "code",
      "metadata": {
        "id": "NlBO3XiEsDrx",
        "colab_type": "code",
        "colab": {}
      },
      "source": [
        "for i in range(NevatiaBabu_dilated.shape[0]):\n",
        "  for j in range(NevatiaBabu_dilated.shape[1]):\n",
        "    if NevatiaBabu_dilated[i,j] !=\n",
        "  \n"
      ],
      "execution_count": 0,
      "outputs": []
    },
    {
      "cell_type": "markdown",
      "metadata": {
        "id": "pb2S4AjdGu3J",
        "colab_type": "text"
      },
      "source": [
        "# Eroding"
      ]
    },
    {
      "cell_type": "code",
      "metadata": {
        "id": "CIQ08px04CiB",
        "colab_type": "code",
        "outputId": "1ee88938-75f7-494a-dd1c-6b68b95c0c43",
        "colab": {
          "base_uri": "https://localhost:8080/",
          "height": 255
        }
      },
      "source": [
        "import scipy.ndimage\n",
        "from PIL import Image\n",
        "import matplotlib.pyplot as plt\n",
        "#!wget \"https://www.dropbox.com/s/tjh2aswihqqloca/NevatiaBabu.bmp?dl=0\" > im.bmp\n",
        "#im = Image.open(\"NevatiaBabu.bmp\")\n",
        "#print(im)\n",
        "NevatiaBabu_eroded_bet = scipy.ndimage.grey_erosion(im, size=(5,5))\n",
        "plt.figure(figsize = (5,8)\n",
        "         )\n",
        "plt.imshow(NevatiaBabu_eroded_bet)\n",
        "#plt.imsave(\"NevatiaBabu_eroded_bet.jpg\", NevatiaBabu_eroded)"
      ],
      "execution_count": 0,
      "outputs": [
        {
          "output_type": "execute_result",
          "data": {
            "text/plain": [
              "<matplotlib.image.AxesImage at 0x7f001a41fb38>"
            ]
          },
          "metadata": {
            "tags": []
          },
          "execution_count": 5
        },
        {
          "output_type": "display_data",
          "data": {
            "image/png": "[encoded data removed]",
            "text/plain": [
              "<Figure size 360x576 with 1 Axes>"
            ]
          },
          "metadata": {
            "tags": []
          }
        }
      ]
    },
    {
      "cell_type": "code",
      "metadata": {
        "colab_type": "code",
        "outputId": "bb4c284e-c4a9-4e76-e14c-a824045a1528",
        "id": "1wCK6HHIoBKu",
        "colab": {
          "base_uri": "https://localhost:8080/",
          "height": 255
        }
      },
      "source": [
        "import scipy.ndimage\n",
        "from PIL import Image\n",
        "import matplotlib.pyplot as plt\n",
        "#!wget \"https://www.dropbox.com/s/tjh2aswihqqloca/NevatiaBabu.bmp?dl=0\" > im.bmp\n",
        "#im = Image.open(\"NevatiaBabu.bmp\")\n",
        "#print(im)\n",
        "NevatiaBabu_eroded_bet = scipy.ndimage.grey_erosion(NevatiaBabu_dilated, size=(5,5))\n",
        "plt.figure(figsize = (5,8)\n",
        "         )\n",
        "plt.imshow(NevatiaBabu_eroded_bet)\n",
        "#plt.imsave(\"NevatiaBabu_eroded_bet.jpg\", NevatiaBabu_eroded)"
      ],
      "execution_count": 0,
      "outputs": [
        {
          "output_type": "execute_result",
          "data": {
            "text/plain": [
              "<matplotlib.image.AxesImage at 0x7f001a364358>"
            ]
          },
          "metadata": {
            "tags": []
          },
          "execution_count": 7
        },
        {
          "output_type": "display_data",
          "data": {
            "image/png": "[encoded data removed]",
            "text/plain": [
              "<Figure size 360x576 with 1 Axes>"
            ]
          },
          "metadata": {
            "tags": []
          }
        }
      ]
    },
    {
      "cell_type": "code",
      "metadata": {
        "colab_type": "code",
        "outputId": "e78c5fe3-a23f-48da-d089-1e89ee01b2c2",
        "id": "p2mVfVS-o0Vc",
        "colab": {
          "base_uri": "https://localhost:8080/",
          "height": 272
        }
      },
      "source": [
        "import scipy.ndimage\n",
        "from PIL import Image\n",
        "import matplotlib.pyplot as plt\n",
        "#!wget \"https://www.dropbox.com/s/tjh2aswihqqloca/NevatiaBabu.bmp?dl=0\" > im.bmp\n",
        "im = Image.open(\"NevatiaBabu_bet.bmp\")\n",
        "print(im)\n",
        "NevatiaBabu_dilated = scipy.ndimage.grey_dilation(im, size=(1,5))\n",
        "plt.figure(figsize = (5,8)\n",
        "         )\n",
        "plt.imshow(NevatiaBabu_dilated)\n",
        "\n",
        "#plt.imsave(\"NevatiaBabu_dilated_bet.jpg\", NevatiaBabu_dilated)"
      ],
      "execution_count": 0,
      "outputs": [
        {
          "output_type": "stream",
          "text": [
            "<PIL.BmpImagePlugin.BmpImageFile image mode=1 size=1021x680 at 0x7F0019D7A390>\n"
          ],
          "name": "stdout"
        },
        {
          "output_type": "execute_result",
          "data": {
            "text/plain": [
              "<matplotlib.image.AxesImage at 0x7f0019cc4e48>"
            ]
          },
          "metadata": {
            "tags": []
          },
          "execution_count": 25
        },
        {
          "output_type": "display_data",
          "data": {
            "image/png": "[encoded data removed]",
            "text/plain": [
              "<Figure size 360x576 with 1 Axes>"
            ]
          },
          "metadata": {
            "tags": []
          }
        }
      ]
    },
    {
      "cell_type": "markdown",
      "metadata": {
        "id": "Q0826gOMH8_u",
        "colab_type": "text"
      },
      "source": [
        "# dilating +eroding => grey_opening"
      ]
    },
    {
      "cell_type": "code",
      "metadata": {
        "id": "q0P17ScO5Sf1",
        "colab_type": "code",
        "outputId": "01b6c341-0dc9-4bff-8cb1-40e18ff2f353",
        "colab": {
          "base_uri": "https://localhost:8080/",
          "height": 255
        }
      },
      "source": [
        "NevatiaBabu_d_go = scipy.ndimage.grey_opening(NevatiaBabu_dilated, size=(5,4))\n",
        "plt.figure(figsize = (5,8)\n",
        "         )\n",
        "plt.imshow(NevatiaBabu_d_go)"
      ],
      "execution_count": 0,
      "outputs": [
        {
          "output_type": "execute_result",
          "data": {
            "text/plain": [
              "<matplotlib.image.AxesImage at 0x7f0019ca1be0>"
            ]
          },
          "metadata": {
            "tags": []
          },
          "execution_count": 26
        },
        {
          "output_type": "display_data",
          "data": {
            "image/png": "[encoded data removed]",
            "text/plain": [
              "<Figure size 360x576 with 1 Axes>"
            ]
          },
          "metadata": {
            "tags": []
          }
        }
      ]
    },
    {
      "cell_type": "markdown",
      "metadata": {
        "id": "meeLGqABIWQJ",
        "colab_type": "text"
      },
      "source": [
        "# Thicker lines with grey_closing"
      ]
    },
    {
      "cell_type": "code",
      "metadata": {
        "id": "tTvpqgCtE97K",
        "colab_type": "code",
        "outputId": "e0de8a30-f783-4eef-d556-e89eb3c5cc37",
        "colab": {
          "base_uri": "https://localhost:8080/",
          "height": 238
        }
      },
      "source": [
        "NevatiaBabu_d_go = scipy.ndimage.grey_closing(im, size=(4,4))\n",
        "plt.figure(figsize = (5,8)\n",
        "         )\n",
        "plt.imshow(NevatiaBabu_d_go)\n",
        "plt.imsave('NevatiaBabu_d_go.jpg',NevatiaBabu_d_go)"
      ],
      "execution_count": 0,
      "outputs": [
        {
          "output_type": "display_data",
          "data": {
            "image/png": "[encoded data removed]",
            "text/plain": [
              "<Figure size 360x576 with 1 Axes>"
            ]
          },
          "metadata": {
            "tags": []
          }
        }
      ]
    },
    {
      "cell_type": "code",
      "metadata": {
        "colab_type": "code",
        "outputId": "948a19ee-9e1f-4b06-a17d-086e1b979484",
        "id": "sFKDLSFPq5Rt",
        "colab": {
          "base_uri": "https://localhost:8080/",
          "height": 255
        }
      },
      "source": [
        "NevatiaBabu_d_go = scipy.ndimage.grey_dilation(NevatiaBabu_d_go, size=(4,4))\n",
        "plt.figure(figsize = (5,8)\n",
        "         )\n",
        "plt.imshow(NevatiaBabu_d_go)\n",
        "#plt.imsave('NevatiaBabu_d_go.jpg',NevatiaBabu_d_go)"
      ],
      "execution_count": 0,
      "outputs": [
        {
          "output_type": "execute_result",
          "data": {
            "text/plain": [
              "<matplotlib.image.AxesImage at 0x7f0019a66d68>"
            ]
          },
          "metadata": {
            "tags": []
          },
          "execution_count": 35
        },
        {
          "output_type": "display_data",
          "data": {
            "image/png": "[encoded data removed]",
            "text/plain": [
              "<Figure size 360x576 with 1 Axes>"
            ]
          },
          "metadata": {
            "tags": []
          }
        }
      ]
    }
  ]
}