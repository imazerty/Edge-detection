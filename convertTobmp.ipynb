{
  "nbformat": 4,
  "nbformat_minor": 0,
  "metadata": {
    "colab": {
      "name": "convertTobmp.ipynb",
      "version": "0.3.2",
      "provenance": [],
      "include_colab_link": true
    },
    "kernelspec": {
      "name": "python3",
      "display_name": "Python 3"
    }
  },
  "cells": [
    {
      "cell_type": "markdown",
      "metadata": {
        "id": "view-in-github",
        "colab_type": "text"
      },
      "source": [
        "<a href=\"https://colab.research.google.com/github/imazerty/Edge-detection/blob/master/convertTobmp.ipynb\" target=\"_parent\"><img src=\"https://colab.research.google.com/assets/colab-badge.svg\" alt=\"Open In Colab\"/></a>"
      ]
    },
    {
      "cell_type": "code",
      "metadata": {
        "id": "R-lb9r391-8p",
        "colab_type": "code",
        "colab": {}
      },
      "source": [
        "from PIL import Image\n",
        "Image.open(\"log(img).jpg\").save(\"log(img).bmp\")"
      ],
      "execution_count": 0,
      "outputs": []
    },
    {
      "cell_type": "code",
      "metadata": {
        "id": "CZ-ze4Oa2KT-",
        "colab_type": "code",
        "colab": {
          "base_uri": "https://localhost:8080/",
          "height": 51
        },
        "outputId": "b0c4ede6-1c99-4eb0-f70e-77399aec8213"
      },
      "source": [
        "im = Image.open(\"log(img).bmp\")\n",
        "print(type(im))\n",
        "print(im.convert('L'))"
      ],
      "execution_count": 11,
      "outputs": [
        {
          "output_type": "stream",
          "text": [
            "<class 'PIL.BmpImagePlugin.BmpImageFile'>\n",
            "<PIL.Image.Image image mode=L size=400x266 at 0x7F05E6899128>\n"
          ],
          "name": "stdout"
        }
      ]
    }
  ]
}