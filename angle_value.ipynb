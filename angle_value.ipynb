{
  "nbformat": 4,
  "nbformat_minor": 0,
  "metadata": {
    "colab": {
      "name": "angle_value.ipynb",
      "version": "0.3.2",
      "provenance": [],
      "collapsed_sections": [],
      "include_colab_link": true
    },
    "kernelspec": {
      "name": "python3",
      "display_name": "Python 3"
    }
  },
  "cells": [
    {
      "cell_type": "markdown",
      "metadata": {
        "id": "view-in-github",
        "colab_type": "text"
      },
      "source": [
        "<a href=\"https://colab.research.google.com/github/imazerty/Edge-detection/blob/master/angle_value.ipynb\" target=\"_parent\"><img src=\"https://colab.research.google.com/assets/colab-badge.svg\" alt=\"Open In Colab\"/></a>"
      ]
    },
    {
      "cell_type": "code",
      "metadata": {
        "id": "4jnJUNzMNLNe",
        "colab_type": "code",
        "colab": {
          "base_uri": "https://localhost:8080/",
          "height": 283
        },
        "outputId": "e8d50b15-e4f2-4753-d157-801c8db72a72"
      },
      "source": [
        "import numpy as np\n",
        "import matplotlib.pyplot as plt\n",
        "import cv2\n",
        "from google.colab.patches import cv2_imshow\n",
        "\n",
        "im = cv2.imread('angle_only_yft.jpg')\n",
        "cv2_imshow(im)"
      ],
      "execution_count": 4,
      "outputs": [
        {
          "output_type": "display_data",
          "data": {
            "image/png": "[encoded data removed]",
            "text/plain": [
              "<PIL.Image.Image image mode=RGB size=400x266 at 0x7FE072B1F160>"
            ]
          },
          "metadata": {
            "tags": []
          }
        }
      ]
    },
    {
      "cell_type": "code",
      "metadata": {
        "id": "cNH471xGwJdQ",
        "colab_type": "code",
        "colab": {}
      },
      "source": [
        ""
      ],
      "execution_count": 0,
      "outputs": []
    },
    {
      "cell_type": "code",
      "metadata": {
        "id": "3qdpgIEpOhNq",
        "colab_type": "code",
        "colab": {
          "base_uri": "https://localhost:8080/",
          "height": 68
        },
        "outputId": "52c88ba5-b9e1-4715-d30c-f3b6a661e7e5"
      },
      "source": [
        "from PIL import Image\n",
        "im = Image.open('angle_only_yft.jpg')\n",
        "pixel_content = im.load()\n",
        "height, width  = im.size\n",
        "\n",
        "#black and white image:\n",
        "for i in range(height):\n",
        "  for j in range(width):\n",
        "    if (pixel_content[i,j][0] > 100):\n",
        "      pixel_content[i,j] = (255,255,255)\n",
        "im.save('black_white.jpg')\n",
        "\n",
        "# coordonnées\n",
        "x1h = 0\n",
        "y1h = 0\n",
        "x2h = 0\n",
        "y2h = 0 \n",
        "for i in range(height):\n",
        "  for j in range(width):\n",
        "    if (pixel_content[i,j][0] > 100):\n",
        "      x1h = i\n",
        "      y1h = j\n",
        "      x2h = i\n",
        "      y2h = j + 10 \n",
        "      break\n",
        "      \n",
        "  if x1h * y1h * y2h * x2h != 0:\n",
        "     break\n",
        "      \n",
        "x3 = 0\n",
        "y3 = y2h\n",
        "print(x1h, y1h, x2h, y2h)\n",
        "for k in np.arange(x2h + 1, height):\n",
        "  #make sure there's a gap between the second point and the third one\n",
        "  if (pixel_content[int(k),y2h][0] > 100) and (pixel_content[int(k - 1),y2h][0] < 100):\n",
        "    print(pixel_content[int(k),y2h][0])\n",
        "    x3 = int(k)\n",
        "    break\n",
        "import math\n",
        "angle = math.atan2((y3 - y1h),(x3 - x1h))\n",
        "print(\"angle en degré\", round(angle * 180/math.pi))\n",
        "      \n",
        "    \n",
        "   \n",
        "    \n",
        "      \n",
        "      \n"
      ],
      "execution_count": 60,
      "outputs": [
        {
          "output_type": "stream",
          "text": [
            "200 103 200 113\n",
            "255\n",
            "angle en degré 28\n"
          ],
          "name": "stdout"
        }
      ]
    }
  ]
}